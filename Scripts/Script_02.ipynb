{
 "cells": [
  {
   "cell_type": "markdown",
   "metadata": {},
   "source": [
    "# Deep Learning at AdvendtureWorks: Predictive Modelling through classic machine learning models"
   ]
  },
  {
   "cell_type": "code",
   "execution_count": 1,
   "metadata": {},
   "outputs": [],
   "source": [
    "import numpy as np\n",
    "from os.path import join\n",
    "from os import listdir"
   ]
  },
  {
   "cell_type": "markdown",
   "metadata": {},
   "source": [
    "## Construction du data set"
   ]
  },
  {
   "cell_type": "code",
   "execution_count": 2,
   "metadata": {},
   "outputs": [],
   "source": [
    "# Construction du dataset\n",
    "data = np.empty([2122, 128, 128, 3])\n",
    "label = np.empty([2122])\n",
    "i = 0\n",
    "label_mapping = {}\n",
    "root = '../Data/gear_images_npy'"
   ]
  },
  {
   "cell_type": "code",
   "execution_count": 3,
   "metadata": {},
   "outputs": [],
   "source": [
    "for fol_nber, folder in enumerate(listdir(root)):\n",
    "    label_mapping[fol_nber] = folder\n",
    "    for imgfile in listdir(join(root,folder)):\n",
    "        npimg = np.load(join(root, folder, imgfile))\n",
    "        data[i,:,:,:] = npimg\n",
    "        label[i] = fol_nber\n",
    "        i+=1\n",
    "        \n",
    "np.savez('../Data/dataset.npz', x=data, y=label)"
   ]
  },
  {
   "cell_type": "code",
   "execution_count": null,
   "metadata": {},
   "outputs": [],
   "source": [
    "print(data.shape)"
   ]
  },
  {
   "cell_type": "code",
   "execution_count": 10,
   "metadata": {},
   "outputs": [],
   "source": [
    "data = np.load('../Data/dataset.npz')"
   ]
  },
  {
   "cell_type": "code",
   "execution_count": 15,
   "metadata": {},
   "outputs": [],
   "source": [
    "data.files\n",
    "X = data['x']\n",
    "y = data['y']"
   ]
  },
  {
   "cell_type": "code",
   "execution_count": 17,
   "metadata": {},
   "outputs": [
    {
     "name": "stdout",
     "output_type": "stream",
     "text": [
      "<class 'numpy.ndarray'>\n",
      "(2122, 128, 128, 3)\n",
      "(2122,)\n"
     ]
    }
   ],
   "source": [
    "print(type(X))\n",
    "print(X.shape)\n",
    "print(y.shape)"
   ]
  },
  {
   "cell_type": "markdown",
   "metadata": {},
   "source": [
    "## Split échantillon d'apprentissage et de test"
   ]
  },
  {
   "cell_type": "code",
   "execution_count": 19,
   "metadata": {},
   "outputs": [],
   "source": [
    "from sklearn.model_selection import train_test_split\n",
    "\n",
    "X_training, X_testing, y_training, y_testing = train_test_split(X.reshape(2122, -1), y, test_size=0.3, random_state=42)"
   ]
  },
  {
   "cell_type": "code",
   "execution_count": 21,
   "metadata": {},
   "outputs": [
    {
     "name": "stdout",
     "output_type": "stream",
     "text": [
      "(1485, 49152)\n",
      "(637, 49152)\n",
      "(1485,)\n",
      "(637,)\n"
     ]
    }
   ],
   "source": [
    "print(X_training.shape)\n",
    "print(X_testing.shape)\n",
    "print(y_training.shape)\n",
    "print(y_testing.shape)"
   ]
  },
  {
   "cell_type": "markdown",
   "metadata": {},
   "source": [
    "## Machine Learning"
   ]
  },
  {
   "cell_type": "markdown",
   "metadata": {},
   "source": [
    "### Arbre de décision"
   ]
  },
  {
   "cell_type": "code",
   "execution_count": 52,
   "metadata": {},
   "outputs": [
    {
     "data": {
      "text/plain": [
       "DecisionTreeClassifier(class_weight=None, criterion='gini', max_depth=5,\n",
       "            max_features=None, max_leaf_nodes=None,\n",
       "            min_impurity_decrease=0.0, min_impurity_split=None,\n",
       "            min_samples_leaf=1, min_samples_split=2,\n",
       "            min_weight_fraction_leaf=0.0, presort=False, random_state=None,\n",
       "            splitter='best')"
      ]
     },
     "execution_count": 52,
     "metadata": {},
     "output_type": "execute_result"
    }
   ],
   "source": [
    "from sklearn.tree import DecisionTreeClassifier \n",
    "\n",
    "tree_model = DecisionTreeClassifier(max_depth = 5)\n",
    "\n",
    "tree_model.fit(X_training, y_training)"
   ]
  },
  {
   "cell_type": "code",
   "execution_count": 53,
   "metadata": {},
   "outputs": [],
   "source": [
    "tree_predictions = tree_model.predict(X_testing) "
   ]
  },
  {
   "cell_type": "code",
   "execution_count": 54,
   "metadata": {},
   "outputs": [
    {
     "name": "stdout",
     "output_type": "stream",
     "text": [
      "[[  0   0   1  18   2   0   1   0   0   0   1   1]\n",
      " [  0  17   0   0   2   3   0   0   4   0   2   0]\n",
      " [  0   0  70  19   2   3   5   0   0   1   0   0]\n",
      " [  0   0   0  20   4   0   1   0   1   0   2   8]\n",
      " [  0   3   0   1  40   4   0  10   8   0   0   2]\n",
      " [  0   0   0   0   0 105   0   1  12   3   2   0]\n",
      " [  0   1   0   9   4   1  16   0  15   0   1   1]\n",
      " [  0   0   3   3   1   0   0  14   1   0   1   0]\n",
      " [  0   0   0   0   0  53   0   2  22   0   0   1]\n",
      " [  0   3   1   0   1   2   0   1   5   0   0   1]\n",
      " [  0   1   1   1   4   2   0   2   5   0  39   3]\n",
      " [  0   0   0   0   0   1   0   0   0   0   5  31]]\n"
     ]
    }
   ],
   "source": [
    "# construction de la matrice de confusion\n",
    "from sklearn.metrics import confusion_matrix\n",
    "cm = confusion_matrix(y_testing, tree_predictions) \n",
    "print(cm)"
   ]
  },
  {
   "cell_type": "code",
   "execution_count": 55,
   "metadata": {},
   "outputs": [
    {
     "data": {
      "text/plain": [
       "0.5871271585557299"
      ]
     },
     "execution_count": 55,
     "metadata": {},
     "output_type": "execute_result"
    }
   ],
   "source": [
    "from sklearn.metrics import accuracy_score\n",
    "accuracy_score(y_testing, tree_predictions)"
   ]
  },
  {
   "cell_type": "markdown",
   "metadata": {},
   "source": [
    "### K plus proches voisins"
   ]
  },
  {
   "cell_type": "code",
   "execution_count": 56,
   "metadata": {},
   "outputs": [
    {
     "data": {
      "text/plain": [
       "KNeighborsClassifier(algorithm='auto', leaf_size=30, metric='minkowski',\n",
       "           metric_params=None, n_jobs=1, n_neighbors=10, p=2,\n",
       "           weights='uniform')"
      ]
     },
     "execution_count": 56,
     "metadata": {},
     "output_type": "execute_result"
    }
   ],
   "source": [
    "from sklearn.neighbors import KNeighborsClassifier\n",
    "\n",
    "knn_model = KNeighborsClassifier(n_neighbors=10)\n",
    "\n",
    "knn_model.fit(X_training, y_training)"
   ]
  },
  {
   "cell_type": "code",
   "execution_count": 57,
   "metadata": {},
   "outputs": [],
   "source": [
    "knn_predictions = knn_model.predict(X_testing)"
   ]
  },
  {
   "cell_type": "code",
   "execution_count": 58,
   "metadata": {},
   "outputs": [
    {
     "name": "stdout",
     "output_type": "stream",
     "text": [
      "[[ 24   0   0   0   0   0   0   0   0   0   0   0]\n",
      " [  0  28   0   0   0   0   0   0   0   0   0   0]\n",
      " [  9   0  88   0   0   2   0   0   0   0   0   1]\n",
      " [  9   0   0  17   0   2   0   0   0   0   0   8]\n",
      " [  0   0   0   0  50  12   0   1   0   0   4   1]\n",
      " [  1   0   1   0   0 119   0   0   2   0   0   0]\n",
      " [  0   0   1   0   2   3  36   0   3   0   0   3]\n",
      " [  0   0   3   0   0   2   0  14   1   0   0   3]\n",
      " [  0   0   0   0   0  50   0   0  28   0   0   0]\n",
      " [  0   0   1   0   0   9   0   0   2   0   1   1]\n",
      " [  1   0   0   0   0   7   0   0   3   0  44   3]\n",
      " [  0   0   0   0   0   0   0   0   0   0   0  37]]\n"
     ]
    }
   ],
   "source": [
    "from sklearn.metrics import confusion_matrix\n",
    "cm = confusion_matrix(y_testing, knn_predictions) \n",
    "print(cm)"
   ]
  },
  {
   "cell_type": "code",
   "execution_count": 59,
   "metadata": {},
   "outputs": [
    {
     "data": {
      "text/plain": [
       "0.7613814756671899"
      ]
     },
     "execution_count": 59,
     "metadata": {},
     "output_type": "execute_result"
    }
   ],
   "source": [
    "from sklearn.metrics import accuracy_score\n",
    "accuracy_score(y_testing, knn_predictions)"
   ]
  },
  {
   "cell_type": "markdown",
   "metadata": {},
   "source": [
    "## Sauvegarde des modèles"
   ]
  },
  {
   "cell_type": "code",
   "execution_count": 60,
   "metadata": {},
   "outputs": [],
   "source": [
    "import pickle\n",
    "\n",
    "pickle.dump(model_tree, open('../Output/decision_tree.pkl', 'wb'))"
   ]
  },
  {
   "cell_type": "code",
   "execution_count": 62,
   "metadata": {},
   "outputs": [
    {
     "data": {
      "text/plain": [
       "['../Output/knn.pkl']"
      ]
     },
     "execution_count": 62,
     "metadata": {},
     "output_type": "execute_result"
    }
   ],
   "source": [
    "from sklearn.externals import joblib\n",
    "\n",
    "joblib.dump(knn_model, '../Output/knn.pkl')"
   ]
  },
  {
   "cell_type": "code",
   "execution_count": null,
   "metadata": {},
   "outputs": [],
   "source": []
  }
 ],
 "metadata": {
  "kernelspec": {
   "display_name": "Python 3",
   "language": "python",
   "name": "python3"
  },
  "language_info": {
   "codemirror_mode": {
    "name": "ipython",
    "version": 3
   },
   "file_extension": ".py",
   "mimetype": "text/x-python",
   "name": "python",
   "nbconvert_exporter": "python",
   "pygments_lexer": "ipython3",
   "version": "3.6.5"
  }
 },
 "nbformat": 4,
 "nbformat_minor": 2
}
